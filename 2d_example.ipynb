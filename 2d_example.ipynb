{
 "cells": [
  {
   "cell_type": "markdown",
   "source": [
    "## 2D density estimation with diffusion models\n",
    "\n",
    "Note that the code used in the paper is in another repository. This simple version shows the main ideas for continuous density estimation, but doesn't include ensembling or discrete probability estimation.\n",
    "\n",
    "We use pytorch-lightning to simplify boilerplate in this version.\n",
    "\n",
    "Run  \"tensorboard --logdir .\" in notebook directory for other metrics.\n",
    "\n"
   ],
   "metadata": {
    "collapsed": false
   }
  },
  {
   "cell_type": "code",
   "execution_count": null,
   "outputs": [],
   "source": [
    "# Initialization\n",
    "import math\n",
    "import numpy as np\n",
    "import torch as t\n",
    "import torch.nn as nn\n",
    "import torch.distributions as td\n",
    "from torch.utils.data import DataLoader, TensorDataset\n",
    "import pytorch_lightning as pl\n",
    "import sklearn\n",
    "import matplotlib.pyplot as plt\n",
    "%matplotlib inline\n",
    "\n",
    "# Internal imports\n",
    "import utils, nets\n",
    "from diffusionmodel import DiffusionModel\n",
    "\n",
    "# Load 2-d dataset, visualize data\n",
    "sklearn.datasets.make_swiss_roll\n",
    "\n",
    "# TODO: errors with num_workers > 0 for some reason. Mac-specific bug, increase for other machines\n",
    "train_dl = DataLoader(TensorDataset(q_d.sample((npoints,))), batch_size=batch_size, num_workers=0)\n",
    "val_dl = DataLoader(TensorDataset(q_d.sample((npoints,))), batch_size=batch_size, num_workers=0)\n",
    "\n",
    "# Architecture defined in nets.py\n",
    "denoiser = nets.MLP(2, 64, 3, activation=nn.ReLU, dropout=0.)\n",
    "\n",
    "# Load a model\n",
    "\n"
   ],
   "metadata": {
    "collapsed": false
   }
  },
  {
   "cell_type": "code",
   "execution_count": null,
   "outputs": [],
   "source": [
    "# Show MSE plot and discuss logit parameter choices"
   ],
   "metadata": {
    "collapsed": false
   }
  },
  {
   "cell_type": "code",
   "execution_count": null,
   "outputs": [],
   "source": [
    "# Show contour plot for learned model"
   ],
   "metadata": {
    "collapsed": false
   }
  }
 ],
 "metadata": {
  "kernelspec": {
   "display_name": "Python 3",
   "language": "python",
   "name": "python3"
  },
  "language_info": {
   "codemirror_mode": {
    "name": "ipython",
    "version": 2
   },
   "file_extension": ".py",
   "mimetype": "text/x-python",
   "name": "python",
   "nbconvert_exporter": "python",
   "pygments_lexer": "ipython2",
   "version": "2.7.6"
  }
 },
 "nbformat": 4,
 "nbformat_minor": 0
}
