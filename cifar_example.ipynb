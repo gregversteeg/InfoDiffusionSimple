{
 "cells": [
  {
   "cell_type": "markdown",
   "source": [
    "## Simple CIFAR example\n",
    "\n",
    "Note that the code used in the paper is in another repository. This simple version shows the main ideas, but excludes some features that lead to the results\n",
    "reported in the table.\n",
    "In particular, we don't do ensembling here and this code only does density estimation for continuous random variables.\n"
   ],
   "metadata": {
    "collapsed": false
   }
  },
  {
   "cell_type": "code",
   "execution_count": null,
   "outputs": [],
   "source": [],
   "metadata": {
    "collapsed": false
   }
  }
 ],
 "metadata": {
  "kernelspec": {
   "display_name": "Python 3",
   "language": "python",
   "name": "python3"
  },
  "language_info": {
   "codemirror_mode": {
    "name": "ipython",
    "version": 2
   },
   "file_extension": ".py",
   "mimetype": "text/x-python",
   "name": "python",
   "nbconvert_exporter": "python",
   "pygments_lexer": "ipython2",
   "version": "2.7.6"
  }
 },
 "nbformat": 4,
 "nbformat_minor": 0
}
